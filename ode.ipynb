{
 "cells": [
  {
   "cell_type": "markdown",
   "metadata": {},
   "source": [
    "# Loading libraries"
   ]
  },
  {
   "cell_type": "code",
   "execution_count": 219,
   "metadata": {},
   "outputs": [],
   "source": [
    "import numpy as np\n",
    "from scipy.stats import ortho_group\n",
    "import torch\n",
    "device = 'cpu' # Use 'cuda' if has Nvidia GPU available for pytorch\n",
    "import time\n",
    "import matplotlib.pyplot as plt\n",
    "from matplotlib import cm\n",
    "from itertools import cycle\n",
    "lines = [\"-\",\"--\",\"-.\",\":\"]\n",
    "linecycler = cycle(lines)"
   ]
  },
  {
   "cell_type": "markdown",
   "metadata": {},
   "source": [
    "# Numerical schemes for simulating the linearized solver"
   ]
  },
  {
   "cell_type": "code",
   "execution_count": 238,
   "metadata": {},
   "outputs": [],
   "source": [
    "def update(values, q, terms):\n",
    "    \"\"\"update function for simulating the linearized approaching to solve the ODE.\n",
    "        \n",
    "        Parameters\n",
    "        ----------\n",
    "        values : torch.Tensor\n",
    "            The y_hat vector in a simplified form. 0th dimension for order from 0 to N. 1st dimension for different parameters.\n",
    "        q: int\n",
    "            Order of the ODE.\n",
    "        terms: List\n",
    "            List of matrices for different order dynamics.\n",
    "            Each matrix is the F matrix.\n",
    "            The first dimension is the change in the parameters.\n",
    "            The second dimension is the polynomials.\n",
    "        \"\"\"\n",
    "    total_orders, parameters = values.shape\n",
    "    # Buffer storing the delta y_hat, the change to values.\n",
    "    addition = torch.zeros_like(values).to(device)\n",
    "    # Calculate changes to y_hat due to the order-th order dynamics\n",
    "    order_values = torch.ones([total_orders, 1], dtype=torch.double).to(device)\n",
    "    add = torch.matmul(order_values, terms[0])\n",
    "    addition += add\n",
    "    for order in range(1, q + 1):\n",
    "        order_values = torch.concat([order_values[1:], torch.zeros([1, order_values.shape[1]]).to(device)])\n",
    "        beginning_order_values = torch.concat([values[order-1:], torch.zeros([order-1, parameters]).to(device)])\n",
    "        order_values = torch.einsum('ab,ac->abc', order_values, beginning_order_values).reshape(total_orders, -1)\n",
    "        # Sources of change. Eventually order_values should have the values of all the polynomial terms\n",
    "        add = torch.matmul(order_values,terms[order])\n",
    "        addition += add\n",
    "    values += addition\n",
    "\n",
    "def ideal_update(values, q, terms):\n",
    "    addition = torch.zeros_like(values).to(device)\n",
    "    order_values = torch.ones([1], dtype=torch.double).to(device)\n",
    "    add = torch.matmul(order_values,terms[0])\n",
    "    addition += add\n",
    "    for order in range(1, q + 1):\n",
    "        order_values = torch.einsum('b,c->bc', order_values, values).reshape(-1)\n",
    "        add = torch.matmul(order_values,terms[order])\n",
    "        addition += add\n",
    "    values += addition"
   ]
  },
  {
   "cell_type": "markdown",
   "metadata": {},
   "source": [
    "# Defining the ODE"
   ]
  },
  {
   "cell_type": "code",
   "execution_count": 239,
   "metadata": {},
   "outputs": [],
   "source": [
    "# Total number of parameters\n",
    "n_params = 10\n",
    "eta = 0.1\n",
    "# Order of ODE\n",
    "q = 5\n",
    "\n",
    "F5 = eta * np.random.normal(size=(n_params, n_params**5)) / (n_params**5)\n",
    "F4 = eta * np.random.normal(size=(n_params, n_params**4)) / (n_params**4)\n",
    "F3 = eta * np.random.normal(size=(n_params, n_params**3)) / (n_params**3)\n",
    "F2 = eta * np.random.normal(size=(n_params, n_params**2)) / (n_params**2)\n",
    "F1 = eta * np.random.normal(size=(n_params, n_params)) / n_params\n",
    "F0 = eta * np.random.normal(size=(n_params, 1))\n",
    "F5 = torch.tensor(F5).to(device)\n",
    "F4 = torch.tensor(F4).to(device)\n",
    "F3 = torch.tensor(F3).to(device)\n",
    "F2 = torch.tensor(F2).to(device)\n",
    "F1 = torch.tensor(F1).to(device)\n",
    "F0 = torch.tensor(F0).to(device)\n",
    "terms = [F0.T, F1.T, F2.T, F3.T, F4.T, F5.T]"
   ]
  },
  {
   "cell_type": "markdown",
   "metadata": {},
   "source": [
    "# Simulating the effect of increasing QDM order on error with all positive Hessian eigenvalues"
   ]
  },
  {
   "cell_type": "code",
   "execution_count": 240,
   "metadata": {},
   "outputs": [
    {
     "name": "stdout",
     "output_type": "stream",
     "text": [
      "Ideal update done in 0.5215215682983398 seconds\n",
      "Time taken for order 5: 0.7926714420318604 seconds.\n",
      "Time taken for order 10: 1.3203487396240234 seconds.\n",
      "Time taken for order 20: 1.910010576248169 seconds.\n",
      "Time taken for order 40: 3.0710902214050293 seconds.\n",
      "Time taken for order 80: 11.512768983840942 seconds.\n"
     ]
    }
   ],
   "source": [
    "steps = 250\n",
    "\n",
    "approx_trajectory = [[]]*5\n",
    "ideal_trajectory = []\n",
    "np.random.seed(1)\n",
    "values_start = np.random.rand(1, n_params)\n",
    "values = torch.tensor(np.copy(values_start).reshape(-1)).to(device)\n",
    "ideal_trajectory.append(np.copy(values.cpu().detach().numpy()))\n",
    "\n",
    "start = time.time()\n",
    "'''Ideal evolution of the difference equation'''\n",
    "for epoch in range(steps):\n",
    "    ideal_update(values, q, terms)\n",
    "    ideal_trajectory.append(np.copy(values.cpu().detach().numpy()))\n",
    "print('Ideal update done in {} seconds'.format(time.time() - start))\n",
    "\n",
    "'''Simulate evolution using the linearized solver'''\n",
    "# for i, orders in enumerate(range(q, total_orders + 1, q)):\n",
    "for i, orders in enumerate([5,10,20,40,80]):\n",
    "    start = time.time()\n",
    "    values = np.repeat(np.copy(values_start), orders + 1, axis=0)\n",
    "    values = torch.tensor(values).to(device)\n",
    "    approx_trajectory[i] = [np.copy(values[0].cpu().detach().numpy())]\n",
    "\n",
    "    for epoch in range(steps):\n",
    "        update(values, q, terms)\n",
    "        approx_trajectory[i].append(np.copy(values[0].cpu().detach().numpy()))\n",
    "            \n",
    "    print('Time taken for order {}: {} seconds.'.format(orders, time.time() - start))"
   ]
  },
  {
   "cell_type": "markdown",
   "metadata": {},
   "source": [
    "### Plotting results"
   ]
  },
  {
   "cell_type": "code",
   "execution_count": 247,
   "metadata": {},
   "outputs": [
    {
     "data": {
      "image/png": "[encoded data removed]",
      "text/plain": [
       "<Figure size 500x300 with 1 Axes>"
      ]
     },
     "metadata": {},
     "output_type": "display_data"
    }
   ],
   "source": [
    "length = 40\n",
    "parameter = 0\n",
    "x_start = 10\n",
    "plt.figure(figsize=(5,3))\n",
    "for i, orders in enumerate([5,10,20,40,80]):\n",
    "    error = np.abs(np.array(approx_trajectory[i])[: length, parameter] - np.array(ideal_trajectory)[: length, parameter])\n",
    "    plt.plot(error, next(linecycler), label='N={}'.format(orders), color=cm.cool(0.2*i))\n",
    "plt.legend()\n",
    "plt.yscale('log')\n",
    "plt.ylim(10**(-14),0.1)\n",
    "plt.xlabel('Steps')\n",
    "plt.ylabel('Error')\n",
    "plt.savefig('error.svg')\n",
    "plt.show()"
   ]
  },
  {
   "cell_type": "code",
   "execution_count": null,
   "metadata": {},
   "outputs": [],
   "source": []
  }
 ],
 "metadata": {
  "kernelspec": {
   "display_name": "Python 3.10.4 ('torch_env')",
   "language": "python",
   "name": "python3"
  },
  "language_info": {
   "codemirror_mode": {
    "name": "ipython",
    "version": 3
   },
   "file_extension": ".py",
   "mimetype": "text/x-python",
   "name": "python",
   "nbconvert_exporter": "python",
   "pygments_lexer": "ipython3",
   "version": "3.10.4"
  },
  "orig_nbformat": 4,
  "vscode": {
   "interpreter": {
    "hash": "5b8217a22bdbc84d35ce4763e955d33d86ca30218bae43b7a6012b77abb42571"
   }
  }
 },
 "nbformat": 4,
 "nbformat_minor": 2
}
